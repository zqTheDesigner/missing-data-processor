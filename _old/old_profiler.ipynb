{
 "cells": [
  {
   "cell_type": "markdown",
   "metadata": {},
   "source": [
    "# Define configruations"
   ]
  },
  {
   "cell_type": "code",
   "execution_count": null,
   "metadata": {},
   "outputs": [],
   "source": [
    "# Will ignore everything else, only focus on the columns of interest\n",
    "#columns_of_interest=['Team', 'Number', 'Position', 'Age', 'Height', 'Weight', 'Salary', 'Some Error']\n",
    "columns_of_interest=None\n",
    "\n",
    "# Works reversely as columns_of_interest, ignore those columns. \n",
    "# It should not use together with column of interest\n",
    "# columns_to_ignore=['College']\n",
    "columns_to_ignore=None\n",
    "\n",
    "# Dara source url\n",
    "# data_src = \"https://media.geeksforgeeks.org/wp-content/uploads/nba.csv\"\n",
    "# data_src=\"https://data.gov.sg/api/action/datastore_search?resource_id=400a3eb4-8702-4050-9700-988bfea7a20f&limit=5&q=title:jones\"\n",
    "data_src=\"~/Desktop/training_data_zinb.csv\"\n",
    "\n",
    "# If provided csv data doesn't contains headers, provide as a list of strings\n",
    "# headers=['sepal_length',\t'sepal_width',\t'petal_length',\t'petal_width',\t'species']  # Default none\n",
    "headers=None\n",
    "\n",
    "# Start from row number\n",
    "# Header row ? \n",
    "# Pre request / data have to be ready to use\n",
    "\n",
    "# Foce certian columns data type to be number\n",
    "# force_to_number = [{'column':'Height', 'method':'replace_dash'}]"
   ]
  },
  {
   "cell_type": "markdown",
   "metadata": {},
   "source": [
    "The force_to_number configuration can be a bit tricky. If a data set that contains not properly formatted values, I think we can provide some gereic function help user force the value to be numeric value. \n",
    "E.g. in the provided data, the value \"Height\" is saperated by dash '-' ...\n",
    "\n",
    "But it doesn't work this way, the height have to be converted to centmeters in order to get the proper numeric valye. This way is wrong. "
   ]
  },
  {
   "cell_type": "markdown",
   "metadata": {},
   "source": [
    "# Read data"
   ]
  },
  {
   "cell_type": "code",
   "execution_count": null,
   "metadata": {},
   "outputs": [],
   "source": [
    "import pandas as pd\n",
    "from pandas.api.types import is_numeric_dtype\n",
    "\n",
    "pd.set_option('expand_frame_repr', False)\n",
    "pd.set_option('display.max_rows', None)\n",
    "\n",
    "if (headers is not None):\n",
    "\tdata = pd.read_csv(data_src, names=headers)\n",
    "else:\n",
    "\tdata = pd.read_csv(data_src)"
   ]
  },
  {
   "cell_type": "code",
   "execution_count": null,
   "metadata": {},
   "outputs": [],
   "source": [
    "# Preview the data\n",
    "pd.options.display.max_columns = 100 # Set max dispaly columns, if the data has too many columns\n",
    "data.head(20)"
   ]
  },
  {
   "cell_type": "markdown",
   "metadata": {},
   "source": [
    "# Pre-process data"
   ]
  },
  {
   "cell_type": "markdown",
   "metadata": {},
   "source": [
    "### Force data to be number"
   ]
  },
  {
   "cell_type": "code",
   "execution_count": null,
   "metadata": {},
   "outputs": [],
   "source": [
    "# Old methods, no in use\n",
    "def replace_dash(s):\n",
    "\tif ( isinstance(s, str)):\n",
    "\t\tn = s.replace('-','.')\n",
    "\t\tn = float(n)\n",
    "\t\treturn n\n",
    "\telse:\n",
    "\t\treturn s\n",
    "\n",
    "forceMethods = {\n",
    "\t'replace_dash': replace_dash\n",
    "}\n"
   ]
  },
  {
   "cell_type": "code",
   "execution_count": null,
   "metadata": {},
   "outputs": [],
   "source": [
    "# Old method to resolve the '-' in height\n",
    "\n",
    "#if(force_to_number is not None):\n",
    "\t#for force_item in force_to_number:\n",
    "\t\t#column = force_item['column']\n",
    "\t\t#method = force_item['method']\n",
    "\t\t#force_func = forceMethods[method]\n",
    "\t\t#data[column] = data[column].apply(func=force_func)"
   ]
  },
  {
   "cell_type": "code",
   "execution_count": null,
   "metadata": {},
   "outputs": [],
   "source": [
    "def feet_inch_to_cm(s):\n",
    "\tif (isinstance(s, str)):\n",
    "\t\tfeet = s.split('-')[0]\t\n",
    "\t\tinch = s.split('-')[1]\n",
    "\t\tcm = float(feet) * 30.4800 + float(inch) * 2.54\n",
    "\t\treturn cm\n",
    "\telse:\n",
    "\t\treturn s"
   ]
  },
  {
   "cell_type": "code",
   "execution_count": null,
   "metadata": {},
   "outputs": [],
   "source": [
    "# This pre-processor only applied to the basketball data set, if use other datasets, this will throw error. \n",
    "\n",
    "# data['Height'] = data['Height'].apply(feet_inch_to_cm)\n",
    "\n",
    "# data.head()\n",
    "# data.shape"
   ]
  },
  {
   "cell_type": "markdown",
   "metadata": {},
   "source": [
    "### Focus on the columns of interest"
   ]
  },
  {
   "cell_type": "code",
   "execution_count": null,
   "metadata": {},
   "outputs": [],
   "source": [
    "# A container for all the error-messages in the description\n",
    "missing_columns_of_interests = [] \n",
    "\n",
    "# Check if there is error in conlums_of_interest, if user interested\n",
    "# in a column that doesn't exist, record that to generate error message\n",
    "if(columns_of_interest is not None):\n",
    "\tfor column in columns_of_interest:\n",
    "\t\tif not column in data.columns:\n",
    "\t\t\tmissing_columns_of_interests.append(column)\n",
    "\t\n",
    "\t# Loop through all columns in data frame, drop those columns that is\n",
    "\t# not interested\n",
    "\tfor column in data.columns:\n",
    "\t\tif not column in columns_of_interest:\n",
    "\t\t\tdata.drop(column, inplace=True, axis=1)\n",
    "\n",
    "\n",
    "\n",
    "missing_columns_of_interests"
   ]
  },
  {
   "cell_type": "code",
   "execution_count": null,
   "metadata": {},
   "outputs": [],
   "source": [
    "# Ignore the columns to ignore\n",
    "if (columns_to_ignore is not None):\n",
    "\tfor column in columns_to_ignore:\n",
    "\t\tif column in data.columns:\n",
    "\t\t\tdata.drop(column, inplace=True, axis=1)"
   ]
  },
  {
   "cell_type": "markdown",
   "metadata": {},
   "source": [
    "# Overall data description"
   ]
  },
  {
   "cell_type": "code",
   "execution_count": null,
   "metadata": {},
   "outputs": [],
   "source": [
    "# Count rows and columns\n",
    "data_shape = data.shape\n",
    "total_rows_num = data_shape[0]\n",
    "total_columns_num = data_shape[1]\n",
    "\n",
    "print(total_rows_num, total_columns_num)"
   ]
  },
  {
   "cell_type": "code",
   "execution_count": null,
   "metadata": {},
   "outputs": [],
   "source": [
    "# Count total rows that contais a missed value\n",
    "incomplete_rows = data[data.isna().any(axis=1)]\n",
    "incomplete_rows_num = incomplete_rows.shape[0]"
   ]
  },
  {
   "cell_type": "code",
   "execution_count": null,
   "metadata": {},
   "outputs": [],
   "source": [
    "# Count percentage of incomplete rows\n",
    "incomplete_rows_pct = incomplete_rows_num/total_rows_num\n",
    "incomplete_rows_pct"
   ]
  },
  {
   "cell_type": "markdown",
   "metadata": {},
   "source": [
    "### Calculate missing data for each column\n",
    "Only calculate the colums set in the columns_of_interest"
   ]
  },
  {
   "cell_type": "code",
   "execution_count": null,
   "metadata": {},
   "outputs": [],
   "source": [
    "missing_data = data.isna()\n",
    "missing_data.head()"
   ]
  },
  {
   "cell_type": "code",
   "execution_count": null,
   "metadata": {},
   "outputs": [],
   "source": [
    "missing_data_num = missing_data.sum()\n",
    "missing_data_sum = missing_data_num/len(data)"
   ]
  },
  {
   "cell_type": "code",
   "execution_count": null,
   "metadata": {},
   "outputs": [],
   "source": [
    "desc_idx = ['Missing Data (%)','Data Type' ,'Mean', 'Median', 'Min', 'Max', 'Standard Deviation', '25%', '75%', 'Most Appeared', 'Most Appeared Count', 'Unique Values Count']\n",
    "desc = pd.DataFrame(index=desc_idx)\n",
    "\n",
    "for k, v in missing_data_sum.items():\n",
    "\tdesc.at['Missing Data (%)', k] = round(v,4) * 100\n",
    "\n",
    "desc"
   ]
  },
  {
   "cell_type": "markdown",
   "metadata": {},
   "source": [
    "### Columte the mean and median of each column and other info"
   ]
  },
  {
   "cell_type": "code",
   "execution_count": null,
   "metadata": {},
   "outputs": [],
   "source": [
    "# Data type of each column\n",
    "for k, v in data.dtypes.items():\n",
    "\tdesc.at['Data Type', k] = v\n",
    "\n",
    "# Mean value\n",
    "for k, v in data.mean(skipna=True, numeric_only=True).items():\n",
    "\tdesc.at['Mean', k] = round(v, 4)\n",
    "\n",
    "# Median\n",
    "for k, v in data.median(skipna=True, numeric_only=True).items():\n",
    "\tdesc.at['Median', k] = round(v, 4)\n",
    "\n",
    "# Min value\n",
    "for k, v in data.min(skipna=True, numeric_only=True).items():\n",
    "\tdesc.at['Min', k] = round(v, 4)\n",
    "\n",
    "# Max value\n",
    "for k, v in data.max(skipna=True, numeric_only=True).items():\n",
    "\tdesc.at['Max', k] = round(v, 4)\n",
    "\n",
    "\n",
    "\n",
    "# Standard Deviation\n",
    "for k, v in data.std(skipna=True, numeric_only=True).items():\n",
    "\tdesc.at['Standard Deviation', k] = round(v, 4)\n",
    "\n",
    "quantiles_25 =  data.quantile(q=0.25, numeric_only=True)\n",
    "quantiles_75 =  data.quantile(q=0.75, numeric_only=True)\n",
    "for k in data.columns:\n",
    "\ttry:\n",
    "\t\tdesc.at['25%',k] = round(quantiles_25[k], 4)\n",
    "\t\tdesc.at['75%',k] = round(quantiles_75[k], 4)\n",
    "\texcept:\n",
    "\t\tpass\n",
    "\n",
    "# Most frequent value\n",
    "data_mode = data.mode()\n",
    "for k in data_mode:\n",
    "\tv = data_mode[k][0]\n",
    "\tdesc.at['Most Appeared', k] = v\n",
    "\tw = data[k].value_counts()[v]\n",
    "\t# Count most frequent value\n",
    "\tdesc.at['Most Appeared Count', k] = w\n",
    "\n",
    "for column in data.columns:\n",
    "\tunique = data[column].unique()\n",
    "\tdesc.at['Unique Values Count',column] = len(unique) \n",
    "desc"
   ]
  },
  {
   "cell_type": "code",
   "execution_count": null,
   "metadata": {},
   "outputs": [],
   "source": [
    "# removing null values to avoid errors \n",
    "# data.dropna(inplace = True) \n",
    "\n",
    "# percentile list\n",
    "# perc =[.20, .40, .60, .80]\n",
    "\n",
    "# list of dtypes to include\n",
    "# include =['object', 'float', 'int']\n",
    "\n",
    "# calling describe method\n",
    "# desc = data.describe(percentiles = perc, include = include)"
   ]
  },
  {
   "cell_type": "markdown",
   "metadata": {},
   "source": [
    "# Render the description"
   ]
  },
  {
   "cell_type": "code",
   "execution_count": null,
   "metadata": {},
   "outputs": [],
   "source": [
    "from tabulate import tabulate\n",
    "\n",
    "print('Incomplete rows(%):'.ljust(30), round(incomplete_rows_pct, 4) * 100)\n",
    "print('Total rows:'.ljust(30), total_rows_num)\n",
    "print('Incomplete rows cound'.ljust(30), incomplete_rows_num)\n",
    "print('Total columns of interest:'.ljust(30), total_columns_num )\n",
    "print('-'*40)\n",
    "print('Data description:')\n",
    "# desc\n",
    "print(tabulate(desc, headers='keys', tablefmt='tsv'))\n",
    "print('-'*40)\n",
    "if (data[data.isna().any(axis=1)].shape[0] != 0):\t\n",
    "\tprint('Incomplete rows')\n",
    "\tprint(tabulate(data[data.isnull().any(axis=1)],headers='keys', tablefmt='tsv', maxcolwidths=[999, 999]))"
   ]
  },
  {
   "cell_type": "code",
   "execution_count": null,
   "metadata": {},
   "outputs": [],
   "source": []
  },
  {
   "cell_type": "code",
   "execution_count": null,
   "metadata": {},
   "outputs": [],
   "source": []
  }
 ],
 "metadata": {
  "kernelspec": {
   "display_name": "Python 3.10.4 64-bit",
   "language": "python",
   "name": "python3"
  },
  "language_info": {
   "codemirror_mode": {
    "name": "ipython",
    "version": 3
   },
   "file_extension": ".py",
   "mimetype": "text/x-python",
   "name": "python",
   "nbconvert_exporter": "python",
   "pygments_lexer": "ipython3",
   "version": "3.10.6 (main, Nov 14 2022, 16:10:14) [GCC 11.3.0]"
  },
  "vscode": {
   "interpreter": {
    "hash": "916dbcbb3f70747c44a77c7bcd40155683ae19c65e1c03b4aa3499c5328201f1"
   }
  }
 },
 "nbformat": 4,
 "nbformat_minor": 2
}
