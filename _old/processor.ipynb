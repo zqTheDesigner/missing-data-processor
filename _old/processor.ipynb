{
 "cells": [
  {
   "cell_type": "markdown",
   "metadata": {},
   "source": [
    "# Define configurations\n"
   ]
  },
  {
   "cell_type": "markdown",
   "metadata": {},
   "source": [
    "Here, user need to provide some data for the program to run. \n",
    "\n",
    "The key feature will be the fill_up_methods.\n",
    "\n",
    "fill_up_methods takes a list of dicsitonaires, each dictionary provide instruction about what is the method to use to fill up the missing data. \n",
    "For now, there are 4 methods - median, mean, fixed_value and most_frequent valye.\n",
    "Other features such as forward/backword filling, fill last also can be added in. \n",
    "In future, we can also support fill up missed data with AI algorithms such as KNN or possible thing.\n",
    "\n",
    "The result will alwasy be a complete data set with all missed data filled up / dropped, but with as less bias as possible"
   ]
  },
  {
   "cell_type": "code",
   "execution_count": null,
   "metadata": {},
   "outputs": [],
   "source": [
    "# Will ignore everything else, only focus on the columns of interest\n",
    "#columns_of_interest=['Team', 'Number', 'Position', 'Age', 'Height', 'Weight', 'Salary', 'Some Error']\n",
    "columns_of_interest = None  # Defualt to None\n",
    "\n",
    "# Works reversely as columns_of_interest, ignore those columns.\n",
    "# It should not use together with column of interest\n",
    "columns_to_ignore = ['Name']  # Default to None\n",
    "\n",
    "# Data source url\n",
    "data_src = \"https://media.geeksforgeeks.org/wp-content/uploads/nba.csv\"\n",
    "# data_src=\"~/Desktop/iris.data\"\n",
    "\n",
    "# Row index set to ignore\n",
    "rows_to_ignore = [457]\n",
    "\n",
    "# Set defaul method to fill up the missing data\n",
    "default_fill_up_method = 'median'\n",
    "\n",
    "# If provided csv data doesn't contains headers, provide as a list of strings\n",
    "# headers=['sepal_length',\t'sepal_width',\t'petal_length',\t'petal_width',\t'species']  # Default None\n",
    "headers=None\n",
    "\n",
    "# Set individual column missing data filling method\n",
    "# Methods : median, mean, fixed_value, most_frequent\n",
    "fill_up_methods = [{'column': 'Salary', 'method': 'mean'},\n",
    "                   {'column': 'College', 'method': 'fixed_value', 'value': 'Unknown'},\n",
    "                   {'column': 'Team', 'method': 'most_frequent'},\n",
    "                   {'column': 'Position', 'method': 'most_frequent'}]\n",
    "\n",
    "# Set the data normalization method, None to not normalize\n",
    "# Reference of data normilization : https://www.geeksforgeeks.org/data-normalization-with-pandas/\n",
    "# 'maximum_absolute_scaling', 'min_max_feature_scaling', 'z_score'\n",
    "normalization_method = 'maximum_absolute_scaling'  # Default to None\n",
    "\n",
    "# Request schema from user\n",
    "# Category type (hierarchy / no hierarchy)\n",
    "# Ordinal / with order\n",
    "\n",
    "# TODO: Standardalization\n"
   ]
  },
  {
   "cell_type": "markdown",
   "metadata": {},
   "source": [
    "# Read Data\n"
   ]
  },
  {
   "cell_type": "code",
   "execution_count": null,
   "metadata": {},
   "outputs": [],
   "source": [
    "import pandas as pd\n",
    "from pandas.api.types import is_numeric_dtype\n",
    "\n",
    "\n",
    "pd.set_option('expand_frame_repr', False)\n",
    "pd.set_option('display.max_rows', None)\n",
    "\n",
    "if (headers is not None):\n",
    "\tdata = pd.read_csv(data_src, names=headers)\n",
    "else:\n",
    "\tdata = pd.read_csv(data_src)"
   ]
  },
  {
   "cell_type": "markdown",
   "metadata": {},
   "source": [
    "# Pre-process data\n"
   ]
  },
  {
   "cell_type": "code",
   "execution_count": null,
   "metadata": {},
   "outputs": [],
   "source": [
    "def feet_inch_to_cm(s):\n",
    "    if (isinstance(s, str)):\n",
    "        feet = s.split('-')[0]\n",
    "        inch = s.split('-')[1]\n",
    "        cm = float(feet) * 30.4800 + float(inch) * 2.54\n",
    "        return cm\n",
    "    else:\n",
    "        return s\n"
   ]
  },
  {
   "cell_type": "markdown",
   "metadata": {},
   "source": [
    "### Convert string value of inch to number (cm)\n"
   ]
  },
  {
   "cell_type": "code",
   "execution_count": null,
   "metadata": {},
   "outputs": [],
   "source": [
    "# This only applicapable to the basketball data set\n",
    "data['Height'] = data['Height'].apply(feet_inch_to_cm)\n"
   ]
  },
  {
   "cell_type": "markdown",
   "metadata": {},
   "source": [
    "### Focus on the columns of interest\n"
   ]
  },
  {
   "cell_type": "code",
   "execution_count": null,
   "metadata": {},
   "outputs": [],
   "source": [
    "# A container for all the error-messages in the description\n",
    "missing_columns_of_interests = []\n",
    "\n",
    "# Check if there is error in conlums_of_interest, if user interested\n",
    "# in a column that doesn't exist, record that to generate error message\n",
    "if (columns_of_interest is not None):\n",
    "    for column in columns_of_interest:\n",
    "        if not column in data.columns:\n",
    "            missing_columns_of_interests.append(column)\n",
    "\n",
    "    # Loop through all columns in data frame, drop those columns that is\n",
    "    # not interested\n",
    "    for column in data.columns:\n",
    "        if not column in columns_of_interest:\n",
    "            data.drop(column, inplace=True, axis=1)\n",
    "\n",
    "# Ignore the columns to ignore\n",
    "if (columns_to_ignore is not None):\n",
    "    for column in columns_to_ignore:\n",
    "        if column in data.columns:\n",
    "            data.drop(column, inplace=True, axis=1)\n"
   ]
  },
  {
   "cell_type": "markdown",
   "metadata": {},
   "source": [
    "# Fill up missing data for each column\n"
   ]
  },
  {
   "cell_type": "markdown",
   "metadata": {},
   "source": [
    "### Define fill up methods\n"
   ]
  },
  {
   "cell_type": "code",
   "execution_count": null,
   "metadata": {},
   "outputs": [],
   "source": [
    "def median(d):\n",
    "    if is_numeric_dtype(d):\n",
    "        d.fillna(d.median(), inplace=True)\n",
    "\n",
    "\n",
    "def mean(d):\n",
    "    if is_numeric_dtype(d):\n",
    "        d.fillna(round(d.mean(), 2), inplace=True)\n",
    "\n",
    "\n",
    "def most_frequent(d):\n",
    "    d.fillna(d.mode(dropna=True)[0], inplace=True)\n",
    "\n",
    "\n",
    "def fixed_value(d, v):\n",
    "    d.fillna(v, inplace=True)\n",
    "\n",
    "\n",
    "all_fill_up_methods = {\n",
    "    'median': median,\n",
    "    'mean': mean,\n",
    "    'fixed_value': fixed_value,\n",
    "    'most_frequent': most_frequent\n",
    "}\n"
   ]
  },
  {
   "cell_type": "markdown",
   "metadata": {},
   "source": [
    "### Fill up each columns based on the provided method\n"
   ]
  },
  {
   "cell_type": "markdown",
   "metadata": {},
   "source": [
    "This part is a bit tricky, it will be too much for user to fill in if we request saperate numeric method and string method.\n",
    "But if user only supply one method, it is hard to solve all different types.\n"
   ]
  },
  {
   "cell_type": "code",
   "execution_count": null,
   "metadata": {},
   "outputs": [],
   "source": [
    "fill_up_method_columns = []\n",
    "\n",
    "for fill_up_item in fill_up_methods:\n",
    "    fill_up_method_columns.append(fill_up_item['column'])\n",
    "\n",
    "\n",
    "for column in data.columns:\n",
    "    if column in fill_up_method_columns:\n",
    "        # Handing column specified fill up method\n",
    "        idx = fill_up_method_columns.index(column)\n",
    "        method = fill_up_methods[idx]['method']\n",
    "\n",
    "        if (method == 'fixed_value'):\n",
    "            value = fill_up_methods[idx]['value']\n",
    "            all_fill_up_methods[method](data[column], value)\n",
    "        else:\n",
    "            all_fill_up_methods[method](data[column])\n",
    "\n",
    "    # If column specific fill_up_method is not provided\n",
    "    else:\n",
    "        all_fill_up_methods[default_fill_up_method](data[column])\n",
    "\n",
    "# If below still returns any value, means the fill-up method configuration\n",
    "# is not good enough, need to support more clear rules.\n",
    "if (data[data.isna().any(axis=1)].shape[0] != 0):\n",
    "    raise Warning(\n",
    "        'There are still missing values in data set no been filled up, consider provide more clear fill_up_methods rules')\n"
   ]
  },
  {
   "cell_type": "markdown",
   "metadata": {},
   "source": []
  },
  {
   "cell_type": "markdown",
   "metadata": {},
   "source": [
    "### Flat all none numerical columns\n"
   ]
  },
  {
   "cell_type": "markdown",
   "metadata": {},
   "source": [
    "The function here seems cannor process very large set of data, I think need to use num py to flat the none-numerical data, but don't know how yet.\n"
   ]
  },
  {
   "cell_type": "code",
   "execution_count": null,
   "metadata": {},
   "outputs": [],
   "source": [
    "def check_is_same(a, b):\n",
    "    if (a == b):\n",
    "        return 1\n",
    "    else:\n",
    "        return 0\n",
    "\n",
    "\n",
    "for column in data.columns:\n",
    "    # Thiw will only apply to none-numeric data\n",
    "    if not is_numeric_dtype(data[column]):\n",
    "        # Get unique values for each none-numerical column\n",
    "        unique_data = data[column].unique()\n",
    "\n",
    "        # Loop through each item in the unique data,\n",
    "        # each item in unique data will become a column\n",
    "        for unique_column in unique_data:\n",
    "            unique_column_df = pd.DataFrame(columns=[unique_column])\n",
    "\n",
    "            # Assign data column to the data frame, and apply a function\n",
    "            # to check if the current colums is same as the main dataframe row value\n",
    "            unique_column_df[unique_column] = data[column].apply(\n",
    "                lambda row: check_is_same(row, unique_column))\n",
    "\n",
    "            # data[unique_column] = unique_column_df\n",
    "            data = pd.concat((data, unique_column_df), axis=1)\n",
    "\n",
    "        data.drop(column, inplace=True, axis=1)"
   ]
  },
  {
   "cell_type": "markdown",
   "metadata": {},
   "source": [
    "# Post porcess - Normalize data\n"
   ]
  },
  {
   "cell_type": "code",
   "execution_count": null,
   "metadata": {},
   "outputs": [],
   "source": [
    "def maximum_absolute_scaling(_d):\n",
    "    d = _d.copy()\n",
    "    for column in d:\n",
    "        d[column] = d[column]/d[column].abs().max()\n",
    "    return d\n",
    "\n",
    "\n",
    "def min_max_feature_scaling(_d):\n",
    "    d = _d.copy()\n",
    "    for column in d.columns:\n",
    "        d[column] = (d[column] - d[column].min()) / \\\n",
    "            (d[column].max() - d[column].min())\n",
    "\n",
    "\n",
    "def z_score(_d):\n",
    "    d = _d.copy()\n",
    "    for column in d.columns:\n",
    "        d[column] = (d[column] -\n",
    "                     d[column].mean()) / d[column].std()\n",
    "\n",
    "\n",
    "all_normalization_methods = {\n",
    "    'maximum_absolute_scaling': maximum_absolute_scaling}\n"
   ]
  },
  {
   "cell_type": "code",
   "execution_count": null,
   "metadata": {},
   "outputs": [],
   "source": [
    "final_result = data\n",
    "if normalization_method is not None:\n",
    "    final_result = all_normalization_methods[normalization_method](data)\n"
   ]
  },
  {
   "cell_type": "code",
   "execution_count": null,
   "metadata": {},
   "outputs": [],
   "source": [
    "final_result\n"
   ]
  }
 ],
 "metadata": {
  "kernelspec": {
   "display_name": "Python 3.10.4 64-bit",
   "language": "python",
   "name": "python3"
  },
  "language_info": {
   "codemirror_mode": {
    "name": "ipython",
    "version": 3
   },
   "file_extension": ".py",
   "mimetype": "text/x-python",
   "name": "python",
   "nbconvert_exporter": "python",
   "pygments_lexer": "ipython3",
   "version": "3.10.6 (main, Nov 14 2022, 16:10:14) [GCC 11.3.0]"
  },
  "vscode": {
   "interpreter": {
    "hash": "916dbcbb3f70747c44a77c7bcd40155683ae19c65e1c03b4aa3499c5328201f1"
   }
  }
 },
 "nbformat": 4,
 "nbformat_minor": 2
}
