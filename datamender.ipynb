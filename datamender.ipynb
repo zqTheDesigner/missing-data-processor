{
 "cells": [
  {
   "cell_type": "code",
   "execution_count": null,
   "metadata": {},
   "outputs": [],
   "source": [
    "import pandas as pd\n",
    "\n",
    "from datamender import Mender\n",
    "\n",
    "main_df = pd.read_csv(\"https://media.geeksforgeeks.org/wp-content/uploads/nba.csv\")\n",
    "# main_df = pd.read_csv('./expermental/testing_data/titanic.csv')\n",
    "\n",
    "main_df[].apply()\n",
    "\n",
    "main_mender = Mender(main_df)"
   ]
  },
  {
   "cell_type": "code",
   "execution_count": null,
   "metadata": {},
   "outputs": [],
   "source": [
    "# Show all the columns\n",
    "main_df.columns"
   ]
  },
  {
   "cell_type": "code",
   "execution_count": null,
   "metadata": {},
   "outputs": [],
   "source": [
    "# main_mender.setfocus(columns=['Survived', 'Pclass', 'Name'], rows=(0, 50))"
   ]
  },
  {
   "cell_type": "code",
   "execution_count": null,
   "metadata": {},
   "outputs": [],
   "source": [
    "main_mender.setignore(columns=['College'] ,rows=[457])"
   ]
  },
  {
   "cell_type": "code",
   "execution_count": null,
   "metadata": {},
   "outputs": [],
   "source": [
    "main_mender.overview()"
   ]
  },
  {
   "cell_type": "code",
   "execution_count": null,
   "metadata": {},
   "outputs": [],
   "source": [
    "main_mender.insights()"
   ]
  },
  {
   "cell_type": "code",
   "execution_count": null,
   "metadata": {},
   "outputs": [],
   "source": [
    "main_mender.graphs(kind=\"kde\")"
   ]
  },
  {
   "cell_type": "code",
   "execution_count": null,
   "metadata": {},
   "outputs": [],
   "source": [
    "\n",
    "main_mender.setfocus(columns=['Survived'], rows=(1, 50, 2))"
   ]
  },
  {
   "cell_type": "code",
   "execution_count": null,
   "metadata": {},
   "outputs": [],
   "source": [
    "main_mender.show_incomplete()"
   ]
  },
  {
   "cell_type": "code",
   "execution_count": null,
   "metadata": {},
   "outputs": [],
   "source": [
    "from datamender import ImputationStrategies as im_strategy\n",
    "\n",
    "main_mender.impute_columns(\n",
    "    columns=[\"Position__category\"],\n",
    "    strategies=[im_strategy.mean],\n",
    "    inplace= True\n",
    ")\n"
   ]
  },
  {
   "cell_type": "code",
   "execution_count": null,
   "metadata": {},
   "outputs": [],
   "source": [
    "main_mender.column_categories(\"Position\")"
   ]
  },
  {
   "cell_type": "code",
   "execution_count": null,
   "metadata": {},
   "outputs": [],
   "source": [
    "from datamender import EncodingStrategies as en_strategy\n",
    "\n",
    "category_order_map = {\n",
    "    \"PG\": 1,\n",
    "    \"SF\": 3,\n",
    "    \"SG\": 5,\n",
    "    \"PF\": 7,\n",
    "    \"C\": 100,\n",
    "}\n",
    "\n",
    "main_mender.encode_column(\n",
    "    column=\"Position\",\n",
    "    strategy=en_strategy.label_encoding,\n",
    "    category_order_map=category_order_map\n",
    ")\n"
   ]
  }
 ],
 "metadata": {
  "kernelspec": {
   "display_name": "env",
   "language": "python",
   "name": "python3"
  },
  "language_info": {
   "codemirror_mode": {
    "name": "ipython",
    "version": 3
   },
   "file_extension": ".py",
   "mimetype": "text/x-python",
   "name": "python",
   "nbconvert_exporter": "python",
   "pygments_lexer": "ipython3",
   "version": "3.10.6"
  },
  "orig_nbformat": 4,
  "vscode": {
   "interpreter": {
    "hash": "cc643fdf144e6a27d7b5a16dab6e0bbcdccd24bab0bd23bd7826f65f8dc16e65"
   }
  }
 },
 "nbformat": 4,
 "nbformat_minor": 2
}
