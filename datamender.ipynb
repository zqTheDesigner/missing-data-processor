{
 "cells": [
  {
   "cell_type": "code",
   "execution_count": null,
   "metadata": {},
   "outputs": [],
   "source": [
    "import pandas as pd\n",
    "\n",
    "from datamender import Mender\n",
    "\n",
    "# main_df = pd.read_csv(\"https://media.geeksforgeeks.org/wp-content/uploads/nba.csv\")\n",
    "main_df = pd.read_csv('./expermental/testing_data/titanic.csv')\n",
    "\n",
    "main_mender = Mender(main_df)"
   ]
  },
  {
   "cell_type": "code",
   "execution_count": null,
   "metadata": {},
   "outputs": [],
   "source": [
    "# Show all the columns\n",
    "main_df.head()"
   ]
  },
  {
   "cell_type": "code",
   "execution_count": null,
   "metadata": {},
   "outputs": [],
   "source": [
    "main_mender.overview()"
   ]
  },
  {
   "cell_type": "code",
   "execution_count": null,
   "metadata": {},
   "outputs": [],
   "source": [
    "main_mender.insights()"
   ]
  },
  {
   "cell_type": "code",
   "execution_count": null,
   "metadata": {},
   "outputs": [],
   "source": [
    "main_mender.show_incomplete(50)"
   ]
  },
  {
   "attachments": {},
   "cell_type": "markdown",
   "metadata": {},
   "source": [
    "## Imputation Plan\n",
    "\n",
    "Sex is object, but need to be converted to number or boolean, can use one-hot\n",
    "Embarked can also be converted with one-hot\n",
    "\n",
    "Age and cabin have most of missing value, should create a new column - Age__missing to capture the missing value in age\n",
    "\n",
    "Cabin is too complex to process, need to ignore\n",
    "\n"
   ]
  },
  {
   "cell_type": "code",
   "execution_count": null,
   "metadata": {},
   "outputs": [],
   "source": [
    "main_mender.df.head()"
   ]
  },
  {
   "cell_type": "code",
   "execution_count": null,
   "metadata": {},
   "outputs": [],
   "source": [
    "# main_mender.setfocus(columns=['Survived', 'Pclass', 'Name'], rows=(0, 50))"
   ]
  },
  {
   "cell_type": "code",
   "execution_count": null,
   "metadata": {},
   "outputs": [],
   "source": [
    "# Ignore Cabin colum because it is string value without any pattern\n",
    "main_mender.setignore(columns=['Cabin'])"
   ]
  },
  {
   "cell_type": "code",
   "execution_count": null,
   "metadata": {},
   "outputs": [],
   "source": [
    "from datamender import ImputationStrategies as im_strategy\n",
    "\n",
    "# Apply mean imputation to the age column\n",
    "# But because the age column contains too much missing data, we'll capture the likelihood of missing as new column\n",
    "main_mender.impute_columns(\n",
    "    columns=[\"Age\"],\n",
    "    strategies=[im_strategy.mean],\n",
    "    inplace= True,\n",
    "    capture_likelihood = True\n",
    ")\n"
   ]
  },
  {
   "cell_type": "code",
   "execution_count": null,
   "metadata": {},
   "outputs": [],
   "source": [
    "# Since there are only 2 value missed in this column\n",
    "# Impute with mode since the majority takes 72.28% of the value\n",
    "main_mender.impute_columns(\n",
    "    columns=[\"Embarked\"],\n",
    "    strategies=[im_strategy.mode],\n",
    "    inplace=True\n",
    ")"
   ]
  },
  {
   "cell_type": "code",
   "execution_count": null,
   "metadata": {},
   "outputs": [],
   "source": [
    "from datamender import EncodingStrategies as en_stragety\n",
    "\n",
    "# Sex is object, but need to be converted to number or boolean, can use one-hot\n",
    "main_mender.encode_column('Sex', en_stragety.one_hot)"
   ]
  },
  {
   "cell_type": "code",
   "execution_count": null,
   "metadata": {},
   "outputs": [],
   "source": [
    "#Embarked can also be converted with one-hot\n",
    "main_mender.encode_column('Embarked', en_stragety.one_hot)"
   ]
  },
  {
   "cell_type": "code",
   "execution_count": null,
   "metadata": {},
   "outputs": [],
   "source": [
    "import re\n",
    "def amend_height(feet):\n",
    "    pattern = re.compile(r\"(\\d+)-(\\d+)\")\n",
    "    if pd.isna(feet):\n",
    "        return None\n",
    "\n",
    "    found = pattern.findall(feet)\n",
    "    if len(found) == 0:\n",
    "        return None\n",
    "\n",
    "    feet, inch = (found[0])\n",
    "    return int(feet) * 30.48 + int(inch) * 2.54\n",
    "\n",
    "main_mender.amend_column(\"Height\", amend_height)"
   ]
  },
  {
   "cell_type": "code",
   "execution_count": null,
   "metadata": {},
   "outputs": [],
   "source": []
  },
  {
   "cell_type": "code",
   "execution_count": null,
   "metadata": {},
   "outputs": [],
   "source": [
    "main_mender.graphs(kind=\"kde\")"
   ]
  },
  {
   "cell_type": "code",
   "execution_count": null,
   "metadata": {},
   "outputs": [],
   "source": [
    "\n",
    "main_mender.setfocus(columns=['Survived'], rows=(1, 50, 2))"
   ]
  },
  {
   "cell_type": "code",
   "execution_count": null,
   "metadata": {},
   "outputs": [],
   "source": []
  },
  {
   "cell_type": "code",
   "execution_count": null,
   "metadata": {},
   "outputs": [],
   "source": []
  },
  {
   "cell_type": "code",
   "execution_count": null,
   "metadata": {},
   "outputs": [],
   "source": [
    "main_mender.column_categories(\"Position\")"
   ]
  },
  {
   "cell_type": "code",
   "execution_count": null,
   "metadata": {},
   "outputs": [],
   "source": [
    "from datamender import EncodingStrategies as en_strategy\n",
    "\n",
    "category_order_map = {\n",
    "    \"PG\": 1,\n",
    "    \"SF\": 3,\n",
    "    \"SG\": 5,\n",
    "    \"PF\": 7,\n",
    "    \"C\": 100,\n",
    "}\n",
    "\n",
    "main_mender.encode_column(\n",
    "    column=\"Position\",\n",
    "    strategy=en_strategy.label_encoding,\n",
    "    category_order_map=category_order_map\n",
    ")\n"
   ]
  }
 ],
 "metadata": {
  "kernelspec": {
   "display_name": "env",
   "language": "python",
   "name": "python3"
  },
  "language_info": {
   "codemirror_mode": {
    "name": "ipython",
    "version": 3
   },
   "file_extension": ".py",
   "mimetype": "text/x-python",
   "name": "python",
   "nbconvert_exporter": "python",
   "pygments_lexer": "ipython3",
   "version": "3.10.6"
  },
  "orig_nbformat": 4,
  "vscode": {
   "interpreter": {
    "hash": "cc643fdf144e6a27d7b5a16dab6e0bbcdccd24bab0bd23bd7826f65f8dc16e65"
   }
  }
 },
 "nbformat": 4,
 "nbformat_minor": 2
}
